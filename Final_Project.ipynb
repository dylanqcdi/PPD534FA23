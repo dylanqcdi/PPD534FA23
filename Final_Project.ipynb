{
 "cells": [
  {
   "cell_type": "code",
   "execution_count": 135,
   "metadata": {},
   "outputs": [
    {
     "name": "stdout",
     "output_type": "stream",
     "text": [
      "Defaulting to user installation because normal site-packages is not writeable\n",
      "Requirement already satisfied: geopandas in c:\\users\\qiche\\appdata\\roaming\\python\\python311\\site-packages (0.14.0)\n",
      "Requirement already satisfied: numpy in c:\\programdata\\anaconda3\\lib\\site-packages (1.24.3)\n",
      "Requirement already satisfied: pandas in c:\\programdata\\anaconda3\\lib\\site-packages (1.5.3)\n",
      "Requirement already satisfied: seaborn in c:\\programdata\\anaconda3\\lib\\site-packages (0.12.2)\n",
      "Requirement already satisfied: statsmodels in c:\\programdata\\anaconda3\\lib\\site-packages (0.14.0)\n",
      "Requirement already satisfied: fiona>=1.8.21 in c:\\users\\qiche\\appdata\\roaming\\python\\python311\\site-packages (from geopandas) (1.9.4.post1)\n",
      "Requirement already satisfied: packaging in c:\\programdata\\anaconda3\\lib\\site-packages (from geopandas) (23.0)\n",
      "Requirement already satisfied: pyproj>=3.3.0 in c:\\users\\qiche\\appdata\\roaming\\python\\python311\\site-packages (from geopandas) (3.6.1)\n",
      "Requirement already satisfied: shapely>=1.8.0 in c:\\users\\qiche\\appdata\\roaming\\python\\python311\\site-packages (from geopandas) (2.0.1)\n",
      "Requirement already satisfied: python-dateutil>=2.8.1 in c:\\programdata\\anaconda3\\lib\\site-packages (from pandas) (2.8.2)\n",
      "Requirement already satisfied: pytz>=2020.1 in c:\\programdata\\anaconda3\\lib\\site-packages (from pandas) (2022.7)\n",
      "Requirement already satisfied: matplotlib!=3.6.1,>=3.1 in c:\\programdata\\anaconda3\\lib\\site-packages (from seaborn) (3.7.1)\n",
      "Requirement already satisfied: scipy!=1.9.2,>=1.4 in c:\\programdata\\anaconda3\\lib\\site-packages (from statsmodels) (1.10.1)\n",
      "Requirement already satisfied: patsy>=0.5.2 in c:\\programdata\\anaconda3\\lib\\site-packages (from statsmodels) (0.5.3)\n",
      "Requirement already satisfied: attrs>=19.2.0 in c:\\programdata\\anaconda3\\lib\\site-packages (from fiona>=1.8.21->geopandas) (22.1.0)\n",
      "Requirement already satisfied: certifi in c:\\programdata\\anaconda3\\lib\\site-packages (from fiona>=1.8.21->geopandas) (2023.7.22)\n",
      "Requirement already satisfied: click~=8.0 in c:\\programdata\\anaconda3\\lib\\site-packages (from fiona>=1.8.21->geopandas) (8.0.4)\n",
      "Requirement already satisfied: click-plugins>=1.0 in c:\\users\\qiche\\appdata\\roaming\\python\\python311\\site-packages (from fiona>=1.8.21->geopandas) (1.1.1)\n",
      "Requirement already satisfied: cligj>=0.5 in c:\\users\\qiche\\appdata\\roaming\\python\\python311\\site-packages (from fiona>=1.8.21->geopandas) (0.7.2)\n",
      "Requirement already satisfied: six in c:\\programdata\\anaconda3\\lib\\site-packages (from fiona>=1.8.21->geopandas) (1.16.0)\n",
      "Requirement already satisfied: contourpy>=1.0.1 in c:\\programdata\\anaconda3\\lib\\site-packages (from matplotlib!=3.6.1,>=3.1->seaborn) (1.0.5)\n",
      "Requirement already satisfied: cycler>=0.10 in c:\\programdata\\anaconda3\\lib\\site-packages (from matplotlib!=3.6.1,>=3.1->seaborn) (0.11.0)\n",
      "Requirement already satisfied: fonttools>=4.22.0 in c:\\programdata\\anaconda3\\lib\\site-packages (from matplotlib!=3.6.1,>=3.1->seaborn) (4.25.0)\n",
      "Requirement already satisfied: kiwisolver>=1.0.1 in c:\\programdata\\anaconda3\\lib\\site-packages (from matplotlib!=3.6.1,>=3.1->seaborn) (1.4.4)\n",
      "Requirement already satisfied: pillow>=6.2.0 in c:\\programdata\\anaconda3\\lib\\site-packages (from matplotlib!=3.6.1,>=3.1->seaborn) (9.4.0)\n",
      "Requirement already satisfied: pyparsing>=2.3.1 in c:\\programdata\\anaconda3\\lib\\site-packages (from matplotlib!=3.6.1,>=3.1->seaborn) (3.0.9)\n",
      "Requirement already satisfied: colorama in c:\\programdata\\anaconda3\\lib\\site-packages (from click~=8.0->fiona>=1.8.21->geopandas) (0.4.6)\n",
      "Note: you may need to restart the kernel to use updated packages.\n"
     ]
    }
   ],
   "source": [
    "%pip install geopandas numpy pandas seaborn statsmodels"
   ]
  },
  {
   "cell_type": "code",
   "execution_count": 136,
   "metadata": {},
   "outputs": [],
   "source": [
    "import geopandas as gpd\n",
    "import numpy as np\n",
    "import pandas as pd\n",
    "import seaborn as sns\n",
    "from scipy import stats\n",
    "import statsmodels.api as sm"
   ]
  },
  {
   "cell_type": "code",
   "execution_count": 137,
   "metadata": {},
   "outputs": [
    {
     "data": {
      "text/plain": [
       "(9129, 13)"
      ]
     },
     "execution_count": 137,
     "metadata": {},
     "output_type": "execute_result"
    }
   ],
   "source": [
    "gdf_tracts = gpd.read_file(\"https://github.com/dylanqcdi/PPD534FA23/raw/main/tl_2022_06_tract/tl_2022_06_tract.shp\")\n",
    "gdf_tracts.shape"
   ]
  },
  {
   "cell_type": "code",
   "execution_count": 138,
   "metadata": {},
   "outputs": [
    {
     "data": {
      "text/plain": [
       "(1, 3)"
      ]
     },
     "execution_count": 138,
     "metadata": {},
     "output_type": "execute_result"
    }
   ],
   "source": [
    "gdf_boundary = gpd.read_file(\"https://github.com/dylanqcdi/PPD534FA23/raw/main/City_Boundary/City_Boundary.shp\")\n",
    "gdf_boundary.shape"
   ]
  },
  {
   "cell_type": "code",
   "execution_count": 139,
   "metadata": {},
   "outputs": [
    {
     "data": {
      "text/plain": [
       "False"
      ]
     },
     "execution_count": 139,
     "metadata": {},
     "output_type": "execute_result"
    }
   ],
   "source": [
    "gdf_tracts.crs == gdf_boundary.crs"
   ]
  },
  {
   "cell_type": "code",
   "execution_count": 140,
   "metadata": {},
   "outputs": [],
   "source": [
    "gdf_boundary = gdf_boundary.to_crs(gdf_tracts.crs)"
   ]
  },
  {
   "cell_type": "code",
   "execution_count": 141,
   "metadata": {},
   "outputs": [
    {
     "data": {
      "text/plain": [
       "(1274, 13)"
      ]
     },
     "execution_count": 141,
     "metadata": {},
     "output_type": "execute_result"
    }
   ],
   "source": [
    "gdf_lacity = gpd.clip(gdf_tracts, gdf_boundary)\n",
    "gdf_lacity.shape"
   ]
  },
  {
   "cell_type": "code",
   "execution_count": 142,
   "metadata": {},
   "outputs": [
    {
     "data": {
      "text/plain": [
       "(2346, 26)"
      ]
     },
     "execution_count": 142,
     "metadata": {},
     "output_type": "execute_result"
    }
   ],
   "source": [
    "gdf_income1 = gpd.read_file(\"https://raw.githubusercontent.com/gboeing/ppd534/main/data/census_tracts_data_la.csv\")\n",
    "gdf_income = gdf_income1.rename(columns={\"GEOID10\": \"GEOID\"})\n",
    "gdf_income.shape"
   ]
  },
  {
   "cell_type": "code",
   "execution_count": 143,
   "metadata": {},
   "outputs": [
    {
     "data": {
      "text/plain": [
       "(1274, 38)"
      ]
     },
     "execution_count": 143,
     "metadata": {},
     "output_type": "execute_result"
    }
   ],
   "source": [
    "lacensus = pd.merge(gdf_lacity, gdf_income, how=\"left\", left_on=\"GEOID\", right_on=\"GEOID\")\n",
    "gdf_lacensus = gpd.GeoDataFrame(lacensus, geometry='geometry_x')\n",
    "gdf_lacensus.set_geometry('geometry_x', inplace=True)\n",
    "gdf_lacensus.crs = \"EPSG:4326\"\n",
    "gdf_lacensus.shape"
   ]
  },
  {
   "cell_type": "code",
   "execution_count": 144,
   "metadata": {},
   "outputs": [
    {
     "data": {
      "text/plain": [
       "(20213, 34)"
      ]
     },
     "execution_count": 144,
     "metadata": {},
     "output_type": "execute_result"
    }
   ],
   "source": [
    "df_collision = pd.read_csv(\"https://raw.githubusercontent.com/dylanqcdi/PPD534FA23/a8c54e8cb797d9266490e6473112b898b95c8d7e/Collision_Points_SCAG.csv\")\n",
    "df_collision[\"geometry\"] = gpd.points_from_xy(x=df_collision[\"X\"], y=df_collision[\"Y\"])\n",
    "gdf_collision = gpd.GeoDataFrame(df_collision, crs=\"epsg:4326\")\n",
    "gdf_collision.shape"
   ]
  },
  {
   "cell_type": "code",
   "execution_count": 145,
   "metadata": {},
   "outputs": [
    {
     "data": {
      "text/plain": [
       "(6165, 34)"
      ]
     },
     "execution_count": 145,
     "metadata": {},
     "output_type": "execute_result"
    }
   ],
   "source": [
    "df_collision = pd.read_csv(\"https://raw.githubusercontent.com/dylanqcdi/PPD534FA23/a8c54e8cb797d9266490e6473112b898b95c8d7e/Collision_Points_SCAG.csv\")\n",
    "df_collision[\"geometry\"] = gpd.points_from_xy(x=df_collision[\"X\"], y=df_collision[\"Y\"])\n",
    "gdf_collision = gpd.GeoDataFrame(df_collision, crs=\"epsg:4326\")\n",
    "county = [\"LOS ANGELES\"]\n",
    "gdf_collision = gdf_collision[gdf_collision[\"COUNTY\"].isin(county)]\n",
    "gdf_lacollision = gpd.clip(gdf_collision, gdf_lacensus)\n",
    "gdf_lacollision.shape"
   ]
  },
  {
   "cell_type": "code",
   "execution_count": 146,
   "metadata": {},
   "outputs": [
    {
     "data": {
      "text/plain": [
       "(6396, 72)"
      ]
     },
     "execution_count": 146,
     "metadata": {},
     "output_type": "execute_result"
    }
   ],
   "source": [
    "gdf = gpd.sjoin(gdf_lacensus, gdf_lacollision, how=\"left\", predicate='contains')\n",
    "gdf.shape"
   ]
  },
  {
   "cell_type": "code",
   "execution_count": 147,
   "metadata": {},
   "outputs": [],
   "source": [
    "gdf['med_household_income'] = gdf['med_household_income'].replace('\\$', '', regex=True)\n",
    "gdf['med_household_income'] = gdf['med_household_income'].replace('', np.nan)\n",
    "gdf['med_household_income'] = gdf['med_household_income'].astype(float)"
   ]
  },
  {
   "cell_type": "code",
   "execution_count": 151,
   "metadata": {},
   "outputs": [
    {
     "data": {
      "text/plain": [
       "(1274, 12)"
      ]
     },
     "execution_count": 151,
     "metadata": {},
     "output_type": "execute_result"
    }
   ],
   "source": [
    "attribute = ['COLLISION_SEVERITY', 'NUMBER_KILLED',\n",
    "       'NUMBER_INJURED', 'COUNT_SEVERE_INJ', 'COUNT_VISIBLE_INJ',\n",
    "       'COUNT_COMPLAINT_PAIN', 'COUNT_PED_KILLED', 'COUNT_PED_INJURED',\n",
    "       'COUNT_BICYCLIST_KILLED', 'COUNT_BICYCLIST_INJURED', 'COUNT_MC_KILLED',\n",
    "       'COUNT_MC_INJURED']\n",
    "sum_collision = gdf.groupby(\"GEOID\")[attribute].sum()\n",
    "sum_collision.shape"
   ]
  },
  {
   "cell_type": "code",
   "execution_count": 152,
   "metadata": {},
   "outputs": [
    {
     "data": {
      "text/plain": [
       "(6396, 84)"
      ]
     },
     "execution_count": 152,
     "metadata": {},
     "output_type": "execute_result"
    }
   ],
   "source": [
    "gdf = gdf.merge(sum_collision, left_on=\"GEOID\",right_index=True, how=\"left\")\n",
    "gdf.shape"
   ]
  },
  {
   "cell_type": "code",
   "execution_count": 153,
   "metadata": {},
   "outputs": [
    {
     "data": {
      "text/plain": [
       "Index(['STATEFP', 'COUNTYFP', 'TRACTCE', 'GEOID', 'NAME', 'NAMELSAD', 'MTFCC',\n",
       "       'FUNCSTAT', 'ALAND', 'AWATER', 'INTPTLAT', 'INTPTLON', 'geometry_x',\n",
       "       'total_pop', 'median_age', 'pct_hispanic', 'pct_white', 'pct_black',\n",
       "       'pct_asian', 'pct_male', 'pct_single_family_home', 'med_home_value',\n",
       "       'med_rooms_per_home', 'pct_built_before_1940', 'pct_renting',\n",
       "       'rental_vacancy_rate', 'avg_renter_household_size', 'med_gross_rent',\n",
       "       'med_household_income', 'mean_commute_time', 'pct_commute_drive_alone',\n",
       "       'pct_below_poverty', 'pct_college_grad_student',\n",
       "       'pct_same_residence_year_ago', 'pct_bachelors_degree',\n",
       "       'pct_english_only', 'pct_foreign_born', 'geometry_y', 'index_right',\n",
       "       'X', 'Y', 'OBJECTID', 'CASE_ID', 'ACCIDENT_YEAR', 'COLLISION_DATE',\n",
       "       'COLLISION_TIME', 'DAY_OF_WEEK', 'PRIMARY_RD', 'SECONDARY_RD',\n",
       "       'DIRECTION', 'INTERSECTION', 'STATE_HWY_IND', 'STATE_ROUTE',\n",
       "       'RAMP_INTERSECTION', 'COLLISION_SEVERITY_x', 'NUMBER_KILLED_x',\n",
       "       'NUMBER_INJURED_x', 'COUNT_SEVERE_INJ_x', 'COUNT_VISIBLE_INJ_x',\n",
       "       'COUNT_COMPLAINT_PAIN_x', 'COUNT_PED_KILLED_x', 'COUNT_PED_INJURED_x',\n",
       "       'COUNT_BICYCLIST_KILLED_x', 'COUNT_BICYCLIST_INJURED_x',\n",
       "       'COUNT_MC_KILLED_x', 'COUNT_MC_INJURED_x', 'COUNTY', 'CITY_TIMS',\n",
       "       'POINT_X', 'POINT_Y', 'CRASH_TYPE', 'YEAR', 'COLLISION_SEVERITY_y',\n",
       "       'NUMBER_KILLED_y', 'NUMBER_INJURED_y', 'COUNT_SEVERE_INJ_y',\n",
       "       'COUNT_VISIBLE_INJ_y', 'COUNT_COMPLAINT_PAIN_y', 'COUNT_PED_KILLED_y',\n",
       "       'COUNT_PED_INJURED_y', 'COUNT_BICYCLIST_KILLED_y',\n",
       "       'COUNT_BICYCLIST_INJURED_y', 'COUNT_MC_KILLED_y', 'COUNT_MC_INJURED_y'],\n",
       "      dtype='object')"
      ]
     },
     "execution_count": 153,
     "metadata": {},
     "output_type": "execute_result"
    }
   ],
   "source": [
    "gdf.columns"
   ]
  },
  {
   "cell_type": "markdown",
   "metadata": {},
   "source": [
    "**Deadly Collision by Census Tract**"
   ]
  },
  {
   "cell_type": "code",
   "execution_count": null,
   "metadata": {},
   "outputs": [],
   "source": [
    "ax = gdf.plot(column=\"NUMBER_KILLED_y\",\n",
    "                        cmap=\"plasma\",\n",
    "                        lw=0.2,\n",
    "                        figsize=(9, 6),\n",
    "                        legend=True)"
   ]
  }
 ],
 "metadata": {
  "kernelspec": {
   "display_name": "base",
   "language": "python",
   "name": "python3"
  },
  "language_info": {
   "codemirror_mode": {
    "name": "ipython",
    "version": 3
   },
   "file_extension": ".py",
   "mimetype": "text/x-python",
   "name": "python",
   "nbconvert_exporter": "python",
   "pygments_lexer": "ipython3",
   "version": "3.11.4"
  }
 },
 "nbformat": 4,
 "nbformat_minor": 2
}
