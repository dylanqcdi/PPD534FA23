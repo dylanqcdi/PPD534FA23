{
 "cells": [
  {
   "cell_type": "code",
   "execution_count": null,
   "metadata": {},
   "outputs": [],
   "source": [
    "%pip install geopandas numpy pandas seaborn statsmodels"
   ]
  },
  {
   "cell_type": "code",
   "execution_count": null,
   "metadata": {},
   "outputs": [],
   "source": [
    "import geopandas as gpd\n",
    "import numpy as np\n",
    "import pandas as pd\n",
    "import seaborn as sns\n",
    "from scipy import stats\n",
    "import statsmodels.api as sm"
   ]
  },
  {
   "cell_type": "code",
   "execution_count": null,
   "metadata": {},
   "outputs": [],
   "source": [
    "gdf_tracts = gpd.read_file(\"https://github.com/dylanqcdi/PPD534FA23/raw/main/tl_2022_06_tract/tl_2022_06_tract.shp\")\n",
    "gdf_tracts.shape"
   ]
  },
  {
   "cell_type": "code",
   "execution_count": null,
   "metadata": {},
   "outputs": [],
   "source": [
    "gdf_boundary = gpd.read_file(\"https://github.com/dylanqcdi/PPD534FA23/raw/main/City_Boundary/City_Boundary.shp\")\n",
    "gdf_boundary.shape"
   ]
  },
  {
   "cell_type": "code",
   "execution_count": null,
   "metadata": {},
   "outputs": [],
   "source": [
    "gdf_tracts.crs == gdf_boundary.crs"
   ]
  },
  {
   "cell_type": "code",
   "execution_count": null,
   "metadata": {},
   "outputs": [],
   "source": [
    "gdf_boundary = gdf_boundary.to_crs(gdf_tracts.crs)"
   ]
  },
  {
   "cell_type": "code",
   "execution_count": null,
   "metadata": {},
   "outputs": [],
   "source": [
    "gdf_lacity = gpd.clip(gdf_tracts, gdf_boundary)\n",
    "gdf_lacity.shape"
   ]
  },
  {
   "cell_type": "code",
   "execution_count": null,
   "metadata": {},
   "outputs": [],
   "source": [
    "gdf_income1 = gpd.read_file(\"https://raw.githubusercontent.com/gboeing/ppd534/main/data/census_tracts_data_la.csv\")\n",
    "gdf_income = gdf_income1.rename(columns={\"GEOID10\": \"GEOID\"})\n",
    "gdf_income.shape"
   ]
  },
  {
   "cell_type": "code",
   "execution_count": null,
   "metadata": {},
   "outputs": [],
   "source": [
    "lacensus = pd.merge(gdf_lacity, gdf_income, how=\"left\", left_on=\"GEOID\", right_on=\"GEOID\")\n",
    "gdf_lacensus = gpd.GeoDataFrame(lacensus, geometry='geometry_x')\n",
    "gdf_lacensus.set_geometry('geometry_x', inplace=True)\n",
    "gdf_lacensus.crs = \"EPSG:4326\"\n",
    "gdf_lacensus.shape"
   ]
  },
  {
   "cell_type": "code",
   "execution_count": null,
   "metadata": {},
   "outputs": [],
   "source": [
    "df_collision = pd.read_csv(\"https://raw.githubusercontent.com/dylanqcdi/PPD534FA23/a8c54e8cb797d9266490e6473112b898b95c8d7e/Collision_Points_SCAG.csv\")\n",
    "df_collision[\"geometry\"] = gpd.points_from_xy(x=df_collision[\"X\"], y=df_collision[\"Y\"])\n",
    "gdf_collision = gpd.GeoDataFrame(df_collision, crs=\"epsg:4326\")\n",
    "gdf_collision.shape"
   ]
  },
  {
   "cell_type": "code",
   "execution_count": null,
   "metadata": {},
   "outputs": [],
   "source": [
    "df_collision = pd.read_csv(\"https://raw.githubusercontent.com/dylanqcdi/PPD534FA23/a8c54e8cb797d9266490e6473112b898b95c8d7e/Collision_Points_SCAG.csv\")\n",
    "df_collision[\"geometry\"] = gpd.points_from_xy(x=df_collision[\"X\"], y=df_collision[\"Y\"])\n",
    "gdf_collision = gpd.GeoDataFrame(df_collision, crs=\"epsg:4326\")\n",
    "county = [\"LOS ANGELES\"]\n",
    "gdf_collision = gdf_collision[gdf_collision[\"COUNTY\"].isin(county)]\n",
    "gdf_lacollision = gpd.clip(gdf_collision, gdf_lacensus)\n",
    "gdf_lacollision.shape"
   ]
  },
  {
   "cell_type": "code",
   "execution_count": null,
   "metadata": {},
   "outputs": [],
   "source": [
    "gdf = gpd.sjoin(gdf_lacensus, gdf_lacollision, how=\"left\", predicate='contains')\n",
    "gdf.shape"
   ]
  },
  {
   "cell_type": "code",
   "execution_count": null,
   "metadata": {},
   "outputs": [],
   "source": [
    "gdf['med_household_income'] = gdf['med_household_income'].replace('\\$', '', regex=True)\n",
    "gdf['med_household_income'] = gdf['med_household_income'].replace('', np.nan)\n",
    "gdf['med_household_income'] = gdf['med_household_income'].astype(float)"
   ]
  },
  {
   "cell_type": "code",
   "execution_count": null,
   "metadata": {},
   "outputs": [],
   "source": [
    "attribute = ['COLLISION_SEVERITY', 'NUMBER_KILLED',\n",
    "       'NUMBER_INJURED', 'COUNT_SEVERE_INJ', 'COUNT_VISIBLE_INJ',\n",
    "       'COUNT_COMPLAINT_PAIN', 'COUNT_PED_KILLED', 'COUNT_PED_INJURED',\n",
    "       'COUNT_BICYCLIST_KILLED', 'COUNT_BICYCLIST_INJURED', 'COUNT_MC_KILLED',\n",
    "       'COUNT_MC_INJURED']\n",
    "sum_collision = gdf.groupby(\"GEOID\")[attribute].sum()\n",
    "sum_collision.shape"
   ]
  },
  {
   "cell_type": "code",
   "execution_count": null,
   "metadata": {},
   "outputs": [],
   "source": [
    "gdf = gdf.merge(sum_collision, left_on=\"GEOID\",right_index=True, how=\"left\")\n",
    "gdf.shape"
   ]
  },
  {
   "cell_type": "code",
   "execution_count": null,
   "metadata": {},
   "outputs": [],
   "source": [
    "gdf.columns"
   ]
  },
  {
   "cell_type": "markdown",
   "metadata": {},
   "source": [
    "**Deadly Collision by Census Tract**"
   ]
  },
  {
   "cell_type": "code",
   "execution_count": null,
   "metadata": {},
   "outputs": [],
   "source": [
    "ax = gdf.plot(column=\"NUMBER_KILLED_y\",\n",
    "                        cmap=\"plasma\",\n",
    "                        lw=0.2,\n",
    "                        figsize=(9, 6),\n",
    "                        legend=True)"
   ]
  }
 ],
 "metadata": {
  "kernelspec": {
   "display_name": "base",
   "language": "python",
   "name": "python3"
  },
  "language_info": {
   "codemirror_mode": {
    "name": "ipython",
    "version": 3
   },
   "file_extension": ".py",
   "mimetype": "text/x-python",
   "name": "python",
   "nbconvert_exporter": "python",
   "pygments_lexer": "ipython3",
   "version": "3.11.4"
  }
 },
 "nbformat": 4,
 "nbformat_minor": 2
}
